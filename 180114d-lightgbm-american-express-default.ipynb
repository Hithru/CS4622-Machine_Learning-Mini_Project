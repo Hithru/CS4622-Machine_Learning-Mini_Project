{
 "cells": [
  {
   "cell_type": "code",
   "execution_count": null,
   "id": "afaffda1",
   "metadata": {
    "_cell_guid": "b1076dfc-b9ad-4769-8c92-a6c4dae69d19",
    "_uuid": "8f2839f25d086af736a60e9eeb907d3b93b6e0e5",
    "execution": {
     "iopub.execute_input": "2023-01-13T11:05:08.719407Z",
     "iopub.status.busy": "2023-01-13T11:05:08.718892Z",
     "iopub.status.idle": "2023-01-13T11:05:09.813511Z",
     "shell.execute_reply": "2023-01-13T11:05:09.811902Z"
    },
    "papermill": {
     "duration": 1.112253,
     "end_time": "2023-01-13T11:05:09.817189",
     "exception": false,
     "start_time": "2023-01-13T11:05:08.704936",
     "status": "completed"
    },
    "tags": []
   },
   "outputs": [],
   "source": [
    "# This Python 3 environment comes with many helpful analytics libraries installed\n",
    "# It is defined by the kaggle/python Docker image: https://github.com/kaggle/docker-python\n",
    "# For example, here's several helpful packages to load\n",
    "\n",
    "\n",
    "\n",
    "# Input data files are available in the read-only \"../input/\" directory\n",
    "# For example, running this (by clicking run or pressing Shift+Enter) will list all files under the input directory\n",
    "\n",
    "        \n",
    "import numpy as np\n",
    "import pandas as pd\n",
    "import seaborn as sns\n",
    "import matplotlib.pyplot as plt\n",
    "import gc\n",
    "\n",
    "import warnings\n",
    "warnings.filterwarnings(\"ignore\")\n",
    "\n",
    "import os\n",
    "for dirname, _, filenames in os.walk('/kaggle/input'):\n",
    "    for filename in filenames:\n",
    "        print(os.path.join(dirname, filename))\n",
    "\n",
    "# You can write up to 20GB to the current directory (/kaggle/working/) that gets preserved as output when you create a version using \"Save & Run All\" \n",
    "# You can also write temporary files to /kaggle/temp/, but they won't be saved outside of the current session"
   ]
  },
  {
   "cell_type": "markdown",
   "id": "ccb51b52",
   "metadata": {
    "papermill": {
     "duration": 0.012196,
     "end_time": "2023-01-13T11:05:09.840364",
     "exception": false,
     "start_time": "2023-01-13T11:05:09.828168",
     "status": "completed"
    },
    "tags": []
   },
   "source": [
    "# **Read Data**\n",
    "The dataset of this competition has a huge size. If you're reading raw CSV files, It will create a out of memory error. That's why we read the data from AMEX-Feather-Dataset."
   ]
  },
  {
   "cell_type": "code",
   "execution_count": null,
   "id": "dfa00750",
   "metadata": {
    "execution": {
     "iopub.execute_input": "2023-01-13T11:05:09.864369Z",
     "iopub.status.busy": "2023-01-13T11:05:09.863169Z",
     "iopub.status.idle": "2023-01-13T11:05:31.549572Z",
     "shell.execute_reply": "2023-01-13T11:05:31.548502Z"
    },
    "papermill": {
     "duration": 21.700046,
     "end_time": "2023-01-13T11:05:31.551767",
     "exception": false,
     "start_time": "2023-01-13T11:05:09.851721",
     "status": "completed"
    },
    "tags": []
   },
   "outputs": [],
   "source": [
    "train_dataset_ = pd.read_feather('../input/amexfeather/train_data.ftr')\n",
    "# Keep the latest statement features for each customer\n",
    "train_dataset = train_dataset_.groupby('customer_ID').tail(1).set_index('customer_ID', drop=True).sort_index()"
   ]
  },
  {
   "cell_type": "code",
   "execution_count": null,
   "id": "12a9c4c5",
   "metadata": {
    "execution": {
     "iopub.execute_input": "2023-01-13T11:05:31.573922Z",
     "iopub.status.busy": "2023-01-13T11:05:31.573515Z",
     "iopub.status.idle": "2023-01-13T11:05:31.711624Z",
     "shell.execute_reply": "2023-01-13T11:05:31.710270Z"
    },
    "papermill": {
     "duration": 0.151642,
     "end_time": "2023-01-13T11:05:31.713827",
     "exception": false,
     "start_time": "2023-01-13T11:05:31.562185",
     "status": "completed"
    },
    "tags": []
   },
   "outputs": [],
   "source": [
    "del train_dataset_\n",
    "gc.collect()"
   ]
  },
  {
   "cell_type": "code",
   "execution_count": null,
   "id": "2cd31335",
   "metadata": {
    "execution": {
     "iopub.execute_input": "2023-01-13T11:05:31.736643Z",
     "iopub.status.busy": "2023-01-13T11:05:31.736299Z",
     "iopub.status.idle": "2023-01-13T11:05:31.766447Z",
     "shell.execute_reply": "2023-01-13T11:05:31.765761Z"
    },
    "papermill": {
     "duration": 0.044348,
     "end_time": "2023-01-13T11:05:31.768828",
     "exception": false,
     "start_time": "2023-01-13T11:05:31.724480",
     "status": "completed"
    },
    "tags": []
   },
   "outputs": [],
   "source": [
    "train_dataset.head()"
   ]
  },
  {
   "cell_type": "code",
   "execution_count": null,
   "id": "f5bd23b9",
   "metadata": {
    "execution": {
     "iopub.execute_input": "2023-01-13T11:05:31.792720Z",
     "iopub.status.busy": "2023-01-13T11:05:31.792158Z",
     "iopub.status.idle": "2023-01-13T11:05:32.134059Z",
     "shell.execute_reply": "2023-01-13T11:05:32.133310Z"
    },
    "papermill": {
     "duration": 0.356551,
     "end_time": "2023-01-13T11:05:32.136589",
     "exception": false,
     "start_time": "2023-01-13T11:05:31.780038",
     "status": "completed"
    },
    "tags": []
   },
   "outputs": [],
   "source": [
    "train_dataset.info(max_cols=191,show_counts=True)"
   ]
  },
  {
   "cell_type": "code",
   "execution_count": null,
   "id": "9736ecdb",
   "metadata": {
    "execution": {
     "iopub.execute_input": "2023-01-13T11:05:32.161429Z",
     "iopub.status.busy": "2023-01-13T11:05:32.160829Z",
     "iopub.status.idle": "2023-01-13T11:05:42.221156Z",
     "shell.execute_reply": "2023-01-13T11:05:42.219809Z"
    },
    "papermill": {
     "duration": 10.075442,
     "end_time": "2023-01-13T11:05:42.223554",
     "exception": false,
     "start_time": "2023-01-13T11:05:32.148112",
     "status": "completed"
    },
    "tags": []
   },
   "outputs": [],
   "source": [
    "train_dataset.describe()"
   ]
  },
  {
   "cell_type": "markdown",
   "id": "b3bf46ae",
   "metadata": {
    "papermill": {
     "duration": 0.011528,
     "end_time": "2023-01-13T11:05:42.246991",
     "exception": false,
     "start_time": "2023-01-13T11:05:42.235463",
     "status": "completed"
    },
    "tags": []
   },
   "source": [
    "# Categorical/ Non-Categorical"
   ]
  },
  {
   "cell_type": "code",
   "execution_count": null,
   "id": "8008c240",
   "metadata": {
    "execution": {
     "iopub.execute_input": "2023-01-13T11:05:42.272291Z",
     "iopub.status.busy": "2023-01-13T11:05:42.271928Z",
     "iopub.status.idle": "2023-01-13T11:05:42.279536Z",
     "shell.execute_reply": "2023-01-13T11:05:42.278005Z"
    },
    "papermill": {
     "duration": 0.022955,
     "end_time": "2023-01-13T11:05:42.281794",
     "exception": false,
     "start_time": "2023-01-13T11:05:42.258839",
     "status": "completed"
    },
    "tags": []
   },
   "outputs": [],
   "source": [
    "categorical_cols = ['B_30', 'B_38', 'D_114', 'D_116', 'D_117', 'D_120', 'D_126', 'D_63', 'D_64', 'D_66', 'D_68']\n",
    "\n",
    "num_cols = [col for col in train_dataset.columns if col not in categorical_cols + [\"target\"]]\n",
    "\n",
    "print(f'Total number of features: {1}')\n",
    "print(f'Total number of categorical features: {len(categorical_cols)}')\n",
    "print(f'Total number of continuos features: {len(num_cols)}')"
   ]
  },
  {
   "cell_type": "markdown",
   "id": "3b445611",
   "metadata": {
    "papermill": {
     "duration": 0.012281,
     "end_time": "2023-01-13T11:05:42.306598",
     "exception": false,
     "start_time": "2023-01-13T11:05:42.294317",
     "status": "completed"
    },
    "tags": []
   },
   "source": [
    "# Plots"
   ]
  },
  {
   "cell_type": "code",
   "execution_count": null,
   "id": "e49fcb0e",
   "metadata": {
    "execution": {
     "iopub.execute_input": "2023-01-13T11:05:42.332070Z",
     "iopub.status.busy": "2023-01-13T11:05:42.331660Z",
     "iopub.status.idle": "2023-01-13T11:05:42.653126Z",
     "shell.execute_reply": "2023-01-13T11:05:42.651963Z"
    },
    "papermill": {
     "duration": 0.337285,
     "end_time": "2023-01-13T11:05:42.655771",
     "exception": false,
     "start_time": "2023-01-13T11:05:42.318486",
     "status": "completed"
    },
    "tags": []
   },
   "outputs": [],
   "source": [
    "sns.countplot(x = 'target', data = train_dataset)"
   ]
  },
  {
   "cell_type": "markdown",
   "id": "81c0eaca",
   "metadata": {
    "papermill": {
     "duration": 0.011815,
     "end_time": "2023-01-13T11:05:42.680304",
     "exception": false,
     "start_time": "2023-01-13T11:05:42.668489",
     "status": "completed"
    },
    "tags": []
   },
   "source": [
    "**Categorical Data Visualize**"
   ]
  },
  {
   "cell_type": "code",
   "execution_count": null,
   "id": "11f71878",
   "metadata": {
    "execution": {
     "iopub.execute_input": "2023-01-13T11:05:42.708171Z",
     "iopub.status.busy": "2023-01-13T11:05:42.706800Z",
     "iopub.status.idle": "2023-01-13T11:05:43.883515Z",
     "shell.execute_reply": "2023-01-13T11:05:43.882496Z"
    },
    "papermill": {
     "duration": 1.193136,
     "end_time": "2023-01-13T11:05:43.885687",
     "exception": false,
     "start_time": "2023-01-13T11:05:42.692551",
     "status": "completed"
    },
    "tags": []
   },
   "outputs": [],
   "source": [
    "plt.figure(figsize=(20, 30))\n",
    "for i, k in enumerate(categorical_cols):\n",
    "    plt.subplot(6, 2, i+1)\n",
    "    temp_val = pd.DataFrame(train_dataset[k].value_counts(dropna=False, normalize=True).sort_index().rename('count'))\n",
    "    temp_val.index.name = 'value'\n",
    "    temp_val.reset_index(inplace=True)\n",
    "    plt.bar(temp_val.index, temp_val['count'], alpha=0.5)\n",
    "    plt.xlabel(k)\n",
    "    plt.ylabel('frequency')\n",
    "    plt.xticks(temp_val.index, temp_val.value)\n",
    "plt.show()"
   ]
  },
  {
   "cell_type": "markdown",
   "id": "2fb1e08b",
   "metadata": {
    "papermill": {
     "duration": 0.012623,
     "end_time": "2023-01-13T11:05:43.911167",
     "exception": false,
     "start_time": "2023-01-13T11:05:43.898544",
     "status": "completed"
    },
    "tags": []
   },
   "source": [
    "**Visualizing categorial features based on the target**"
   ]
  },
  {
   "cell_type": "code",
   "execution_count": null,
   "id": "98009828",
   "metadata": {
    "execution": {
     "iopub.execute_input": "2023-01-13T11:05:43.938818Z",
     "iopub.status.busy": "2023-01-13T11:05:43.938403Z",
     "iopub.status.idle": "2023-01-13T11:05:45.868289Z",
     "shell.execute_reply": "2023-01-13T11:05:45.866714Z"
    },
    "papermill": {
     "duration": 1.94752,
     "end_time": "2023-01-13T11:05:45.871512",
     "exception": false,
     "start_time": "2023-01-13T11:05:43.923992",
     "status": "completed"
    },
    "tags": []
   },
   "outputs": [],
   "source": [
    "plt.figure(figsize=(20, 30))\n",
    "for i, f in enumerate(categorical_cols):\n",
    "    plt.subplot(6, 2, i+1)\n",
    "    temp = pd.DataFrame(train_dataset[f][train_dataset.target == 0].value_counts(dropna=False, normalize=True).sort_index().rename('count'))\n",
    "    temp.index.name = 'value'\n",
    "    temp.reset_index(inplace=True)\n",
    "    plt.bar(temp.index, temp['count'], alpha=0.5, label='target=0')\n",
    "    temp = pd.DataFrame(train_dataset[f][train_dataset.target == 1].value_counts(dropna=False, normalize=True).sort_index().rename('count'))\n",
    "    temp.index.name = 'value'\n",
    "    temp.reset_index(inplace=True)\n",
    "    plt.bar(temp.index, temp['count'], alpha=0.5, label='target=1')\n",
    "    plt.xlabel(f)\n",
    "    plt.ylabel('frequency')\n",
    "    plt.legend()\n",
    "    plt.xticks(temp.index, temp.value)\n",
    "plt.show()"
   ]
  },
  {
   "cell_type": "markdown",
   "id": "8d592839",
   "metadata": {
    "papermill": {
     "duration": 0.013514,
     "end_time": "2023-01-13T11:05:45.899409",
     "exception": false,
     "start_time": "2023-01-13T11:05:45.885895",
     "status": "completed"
    },
    "tags": []
   },
   "source": [
    "**Visualizing continuous features**"
   ]
  },
  {
   "cell_type": "code",
   "execution_count": null,
   "id": "d9c01253",
   "metadata": {
    "execution": {
     "iopub.execute_input": "2023-01-13T11:05:45.929193Z",
     "iopub.status.busy": "2023-01-13T11:05:45.928549Z",
     "iopub.status.idle": "2023-01-13T11:07:03.631077Z",
     "shell.execute_reply": "2023-01-13T11:07:03.629390Z"
    },
    "papermill": {
     "duration": 77.719785,
     "end_time": "2023-01-13T11:07:03.633184",
     "exception": false,
     "start_time": "2023-01-13T11:05:45.913399",
     "status": "completed"
    },
    "tags": []
   },
   "outputs": [],
   "source": [
    "for i, l in enumerate(num_cols):\n",
    "    if i % 4 == 0: \n",
    "        if i > 0: plt.show()\n",
    "        plt.figure(figsize=(20, 3))\n",
    "    plt.subplot(1, 4, i % 4 + 1)\n",
    "    plt.hist(train_dataset[l], bins=200, color='#C69C73')\n",
    "    plt.xlabel(l)\n",
    "plt.show()"
   ]
  },
  {
   "cell_type": "markdown",
   "id": "28500b02",
   "metadata": {
    "papermill": {
     "duration": 0.025078,
     "end_time": "2023-01-13T11:07:03.684220",
     "exception": false,
     "start_time": "2023-01-13T11:07:03.659142",
     "status": "completed"
    },
    "tags": []
   },
   "source": [
    "**Visualize features depend on general categories**"
   ]
  },
  {
   "cell_type": "code",
   "execution_count": null,
   "id": "d76c9996",
   "metadata": {
    "execution": {
     "iopub.execute_input": "2023-01-13T11:07:03.737228Z",
     "iopub.status.busy": "2023-01-13T11:07:03.736878Z",
     "iopub.status.idle": "2023-01-13T11:07:03.889260Z",
     "shell.execute_reply": "2023-01-13T11:07:03.888296Z"
    },
    "papermill": {
     "duration": 0.182077,
     "end_time": "2023-01-13T11:07:03.891324",
     "exception": false,
     "start_time": "2023-01-13T11:07:03.709247",
     "status": "completed"
    },
    "tags": []
   },
   "outputs": [],
   "source": [
    "Delinquency = [d for d in train_dataset.columns if d.startswith('D_')]\n",
    "Spend = [s for s in train_dataset.columns if s.startswith('S_')]\n",
    "Payment = [p for p in train_dataset.columns if p.startswith('P_')]\n",
    "Balance = [b for b in train_dataset.columns if b.startswith('B_')]\n",
    "Risk = [r for r in train_dataset.columns if r.startswith('R_')]\n",
    "Dict = {'Delinquency': len(Delinquency), 'Spend': len(Spend), 'Payment': len(Payment), 'Balance': len(Balance), 'Risk': len(Risk),}\n",
    "\n",
    "plt.figure(figsize=(10,5))\n",
    "sns.barplot(x=list(Dict.keys()), y=list(Dict.values()));"
   ]
  },
  {
   "cell_type": "markdown",
   "id": "c55418e0",
   "metadata": {
    "papermill": {
     "duration": 0.025104,
     "end_time": "2023-01-13T11:07:03.944447",
     "exception": false,
     "start_time": "2023-01-13T11:07:03.919343",
     "status": "completed"
    },
    "tags": []
   },
   "source": [
    "# Drop and Fill Null Values"
   ]
  },
  {
   "cell_type": "code",
   "execution_count": null,
   "id": "fb079ccd",
   "metadata": {
    "execution": {
     "iopub.execute_input": "2023-01-13T11:07:03.997402Z",
     "iopub.status.busy": "2023-01-13T11:07:03.997016Z",
     "iopub.status.idle": "2023-01-13T11:07:04.515417Z",
     "shell.execute_reply": "2023-01-13T11:07:04.513639Z"
    },
    "papermill": {
     "duration": 0.54812,
     "end_time": "2023-01-13T11:07:04.518177",
     "exception": false,
     "start_time": "2023-01-13T11:07:03.970057",
     "status": "completed"
    },
    "tags": []
   },
   "outputs": [],
   "source": [
    "NaN_Val = np.array(train_dataset.isnull().sum())\n",
    "NaN_prec = np.array((train_dataset.isnull().sum() * 100 / len(train_dataset)).round(2))\n",
    "NaN_Col = pd.DataFrame([np.array(list(train_dataset.columns)).T,NaN_Val.T,NaN_prec.T,np.array(list(train_dataset.dtypes)).T], index=['Features','Num of Missing values','Percentage','DataType']\n",
    ").transpose()\n",
    "pd.set_option('display.max_rows', None)\n",
    "NaN_Col"
   ]
  },
  {
   "cell_type": "markdown",
   "id": "fe5ae4d6",
   "metadata": {
    "papermill": {
     "duration": 0.026289,
     "end_time": "2023-01-13T11:07:04.572006",
     "exception": false,
     "start_time": "2023-01-13T11:07:04.545717",
     "status": "completed"
    },
    "tags": []
   },
   "source": [
    "**Drop unuseful columns**\n",
    "\n",
    "Remove columns if there are > 80% of missing values"
   ]
  },
  {
   "cell_type": "code",
   "execution_count": null,
   "id": "5c3525f8",
   "metadata": {
    "execution": {
     "iopub.execute_input": "2023-01-13T11:07:04.626902Z",
     "iopub.status.busy": "2023-01-13T11:07:04.626433Z",
     "iopub.status.idle": "2023-01-13T11:07:04.736695Z",
     "shell.execute_reply": "2023-01-13T11:07:04.735550Z"
    },
    "papermill": {
     "duration": 0.140852,
     "end_time": "2023-01-13T11:07:04.739281",
     "exception": false,
     "start_time": "2023-01-13T11:07:04.598429",
     "status": "completed"
    },
    "tags": []
   },
   "outputs": [],
   "source": [
    "train_dataset = train_dataset.drop(['S_2','D_66','D_42','D_49','D_73','D_76','R_9','B_29','D_87','D_88','D_106','R_26','D_108','D_110','D_111','B_39','B_42','D_132','D_134','D_135','D_136','D_137','D_138','D_142'], axis=1)"
   ]
  },
  {
   "cell_type": "markdown",
   "id": "a8083ca9",
   "metadata": {
    "papermill": {
     "duration": 0.0264,
     "end_time": "2023-01-13T11:07:04.792157",
     "exception": false,
     "start_time": "2023-01-13T11:07:04.765757",
     "status": "completed"
    },
    "tags": []
   },
   "source": [
    "**Fill null values**"
   ]
  },
  {
   "cell_type": "code",
   "execution_count": null,
   "id": "96d8da3a",
   "metadata": {
    "execution": {
     "iopub.execute_input": "2023-01-13T11:07:04.847389Z",
     "iopub.status.busy": "2023-01-13T11:07:04.846815Z",
     "iopub.status.idle": "2023-01-13T11:07:05.849545Z",
     "shell.execute_reply": "2023-01-13T11:07:05.848150Z"
    },
    "papermill": {
     "duration": 1.033207,
     "end_time": "2023-01-13T11:07:05.852214",
     "exception": false,
     "start_time": "2023-01-13T11:07:04.819007",
     "status": "completed"
    },
    "tags": []
   },
   "outputs": [],
   "source": [
    "selected_col = np.array(['P_2','S_3','B_2','D_41','D_43','B_3','D_44','D_45','D_46','D_48','D_50','D_53','S_7','D_56','S_9','B_6','B_8','D_52','P_3','D_54','D_55','B_13','D_59','D_61','B_15','D_62','B_16','B_17','D_77','B_19','B_20','D_69','B_22','D_70','D_72','D_74','R_7','B_25','B_26','D_78','D_79','D_80','B_27','D_81','R_12','D_82','D_105','S_27','D_83','R_14','D_84','D_86','R_20','B_33','D_89','D_91','S_22','S_23','S_24','S_25','S_26','D_102','D_103','D_104','D_107','B_37','R_27','D_109','D_112','B_40','D_113','D_115','D_118','D_119','D_121','D_122','D_123','D_124','D_125','D_128','D_129','B_41','D_130','D_131','D_133','D_139','D_140','D_141','D_143','D_144','D_145'])\n",
    "\n",
    "for col in selected_col:\n",
    "    train_dataset[col] = train_dataset[col].fillna(train_dataset[col].median())"
   ]
  },
  {
   "cell_type": "code",
   "execution_count": null,
   "id": "ce47f1f1",
   "metadata": {
    "execution": {
     "iopub.execute_input": "2023-01-13T11:07:05.908151Z",
     "iopub.status.busy": "2023-01-13T11:07:05.907703Z",
     "iopub.status.idle": "2023-01-13T11:07:05.956428Z",
     "shell.execute_reply": "2023-01-13T11:07:05.955401Z"
    },
    "papermill": {
     "duration": 0.079801,
     "end_time": "2023-01-13T11:07:05.958990",
     "exception": false,
     "start_time": "2023-01-13T11:07:05.879189",
     "status": "completed"
    },
    "tags": []
   },
   "outputs": [],
   "source": [
    "selcted_col2 = np.array(['D_68','B_30','B_38','D_64','D_114','D_116','D_117','D_120','D_126'])\n",
    "\n",
    "for col2 in selcted_col2:\n",
    "    train_dataset[col2] =  train_dataset[col2].fillna(train_dataset[col2].mode()[0])"
   ]
  },
  {
   "cell_type": "markdown",
   "id": "2d52faac",
   "metadata": {
    "papermill": {
     "duration": 0.026588,
     "end_time": "2023-01-13T11:07:06.013424",
     "exception": false,
     "start_time": "2023-01-13T11:07:05.986836",
     "status": "completed"
    },
    "tags": []
   },
   "source": [
    "**verify no null values**"
   ]
  },
  {
   "cell_type": "code",
   "execution_count": null,
   "id": "0f131f07",
   "metadata": {
    "execution": {
     "iopub.execute_input": "2023-01-13T11:07:06.069093Z",
     "iopub.status.busy": "2023-01-13T11:07:06.068538Z",
     "iopub.status.idle": "2023-01-13T11:07:06.264449Z",
     "shell.execute_reply": "2023-01-13T11:07:06.263436Z"
    },
    "papermill": {
     "duration": 0.2269,
     "end_time": "2023-01-13T11:07:06.267198",
     "exception": false,
     "start_time": "2023-01-13T11:07:06.040298",
     "status": "completed"
    },
    "tags": []
   },
   "outputs": [],
   "source": [
    "print(train_dataset.isnull().sum().to_string())"
   ]
  },
  {
   "cell_type": "code",
   "execution_count": null,
   "id": "3cb0b5a3",
   "metadata": {
    "execution": {
     "iopub.execute_input": "2023-01-13T11:07:06.323739Z",
     "iopub.status.busy": "2023-01-13T11:07:06.323379Z",
     "iopub.status.idle": "2023-01-13T11:07:06.330579Z",
     "shell.execute_reply": "2023-01-13T11:07:06.329001Z"
    },
    "papermill": {
     "duration": 0.038727,
     "end_time": "2023-01-13T11:07:06.333026",
     "exception": false,
     "start_time": "2023-01-13T11:07:06.294299",
     "status": "completed"
    },
    "tags": []
   },
   "outputs": [],
   "source": [
    "train_dataset.shape"
   ]
  },
  {
   "cell_type": "code",
   "execution_count": null,
   "id": "371cdbc5",
   "metadata": {
    "execution": {
     "iopub.execute_input": "2023-01-13T11:07:06.391063Z",
     "iopub.status.busy": "2023-01-13T11:07:06.390678Z",
     "iopub.status.idle": "2023-01-13T11:07:06.415977Z",
     "shell.execute_reply": "2023-01-13T11:07:06.414705Z"
    },
    "papermill": {
     "duration": 0.057954,
     "end_time": "2023-01-13T11:07:06.418112",
     "exception": false,
     "start_time": "2023-01-13T11:07:06.360158",
     "status": "completed"
    },
    "tags": []
   },
   "outputs": [],
   "source": [
    "train_dataset.head()"
   ]
  },
  {
   "cell_type": "markdown",
   "id": "d51ea5a1",
   "metadata": {
    "papermill": {
     "duration": 0.027218,
     "end_time": "2023-01-13T11:07:06.473201",
     "exception": false,
     "start_time": "2023-01-13T11:07:06.445983",
     "status": "completed"
    },
    "tags": []
   },
   "source": [
    "# Load Testing DataSet"
   ]
  },
  {
   "cell_type": "code",
   "execution_count": null,
   "id": "c55a6332",
   "metadata": {
    "execution": {
     "iopub.execute_input": "2023-01-13T11:07:06.530748Z",
     "iopub.status.busy": "2023-01-13T11:07:06.530355Z",
     "iopub.status.idle": "2023-01-13T11:07:48.585020Z",
     "shell.execute_reply": "2023-01-13T11:07:48.584024Z"
    },
    "papermill": {
     "duration": 42.086348,
     "end_time": "2023-01-13T11:07:48.587465",
     "exception": false,
     "start_time": "2023-01-13T11:07:06.501117",
     "status": "completed"
    },
    "tags": []
   },
   "outputs": [],
   "source": [
    "test_dataset_ = pd.read_feather('../input/amexfeather/test_data.ftr')\n",
    "# Keep the latest statement features for each customer\n",
    "test_dataset = test_dataset_.groupby('customer_ID').tail(1).set_index('customer_ID', drop=True).sort_index()"
   ]
  },
  {
   "cell_type": "code",
   "execution_count": null,
   "id": "386e80dc",
   "metadata": {
    "execution": {
     "iopub.execute_input": "2023-01-13T11:07:48.644055Z",
     "iopub.status.busy": "2023-01-13T11:07:48.643632Z",
     "iopub.status.idle": "2023-01-13T11:07:48.912078Z",
     "shell.execute_reply": "2023-01-13T11:07:48.911113Z"
    },
    "papermill": {
     "duration": 0.2994,
     "end_time": "2023-01-13T11:07:48.913913",
     "exception": false,
     "start_time": "2023-01-13T11:07:48.614513",
     "status": "completed"
    },
    "tags": []
   },
   "outputs": [],
   "source": [
    "del test_dataset_\n",
    "gc.collect()"
   ]
  },
  {
   "cell_type": "code",
   "execution_count": null,
   "id": "1f781b64",
   "metadata": {
    "execution": {
     "iopub.execute_input": "2023-01-13T11:07:48.969222Z",
     "iopub.status.busy": "2023-01-13T11:07:48.968824Z",
     "iopub.status.idle": "2023-01-13T11:07:48.997276Z",
     "shell.execute_reply": "2023-01-13T11:07:48.996213Z"
    },
    "papermill": {
     "duration": 0.058587,
     "end_time": "2023-01-13T11:07:48.999242",
     "exception": false,
     "start_time": "2023-01-13T11:07:48.940655",
     "status": "completed"
    },
    "tags": []
   },
   "outputs": [],
   "source": [
    "test_dataset.head()"
   ]
  },
  {
   "cell_type": "code",
   "execution_count": null,
   "id": "88fd0e6f",
   "metadata": {
    "execution": {
     "iopub.execute_input": "2023-01-13T11:07:49.059670Z",
     "iopub.status.busy": "2023-01-13T11:07:49.059219Z",
     "iopub.status.idle": "2023-01-13T11:07:49.065116Z",
     "shell.execute_reply": "2023-01-13T11:07:49.064152Z"
    },
    "papermill": {
     "duration": 0.039782,
     "end_time": "2023-01-13T11:07:49.067436",
     "exception": false,
     "start_time": "2023-01-13T11:07:49.027654",
     "status": "completed"
    },
    "tags": []
   },
   "outputs": [],
   "source": [
    "test_dataset.shape"
   ]
  },
  {
   "cell_type": "markdown",
   "id": "42181ba8",
   "metadata": {
    "papermill": {
     "duration": 0.02878,
     "end_time": "2023-01-13T11:07:49.124218",
     "exception": false,
     "start_time": "2023-01-13T11:07:49.095438",
     "status": "completed"
    },
    "tags": []
   },
   "source": [
    "# Check and Fill null values"
   ]
  },
  {
   "cell_type": "code",
   "execution_count": null,
   "id": "7c11ec7d",
   "metadata": {
    "execution": {
     "iopub.execute_input": "2023-01-13T11:07:49.184141Z",
     "iopub.status.busy": "2023-01-13T11:07:49.182316Z",
     "iopub.status.idle": "2023-01-13T11:07:50.405133Z",
     "shell.execute_reply": "2023-01-13T11:07:50.403847Z"
    },
    "papermill": {
     "duration": 1.255515,
     "end_time": "2023-01-13T11:07:50.407927",
     "exception": false,
     "start_time": "2023-01-13T11:07:49.152412",
     "status": "completed"
    },
    "tags": []
   },
   "outputs": [],
   "source": [
    "NaN_Val2 = np.array(test_dataset.isnull().sum())\n",
    "NaN_prec2 = np.array((test_dataset.isnull().sum() * 100 / len(test_dataset)).round(2))\n",
    "NaN_Col2 = pd.DataFrame([np.array(list(test_dataset.columns)).T,NaN_Val2.T,NaN_prec2.T,np.array(list(test_dataset.dtypes)).T], index=['Features','Num of Missing values','Percentage','DataType']\n",
    ").transpose()\n",
    "pd.set_option('display.max_rows', None)\n",
    "\n",
    "NaN_Col2"
   ]
  },
  {
   "cell_type": "code",
   "execution_count": null,
   "id": "40b7f54e",
   "metadata": {
    "execution": {
     "iopub.execute_input": "2023-01-13T11:07:50.469369Z",
     "iopub.status.busy": "2023-01-13T11:07:50.469009Z",
     "iopub.status.idle": "2023-01-13T11:07:50.664514Z",
     "shell.execute_reply": "2023-01-13T11:07:50.663072Z"
    },
    "papermill": {
     "duration": 0.229368,
     "end_time": "2023-01-13T11:07:50.667216",
     "exception": false,
     "start_time": "2023-01-13T11:07:50.437848",
     "status": "completed"
    },
    "tags": []
   },
   "outputs": [],
   "source": [
    "test_dataset = test_dataset.drop(['S_2','D_42','D_49','D_66','D_73','D_76','R_9','B_29','D_87','D_88','D_106','R_26','D_108','D_110','D_111','B_39','B_42','D_132','D_134','D_135','D_136','D_137','D_138','D_142'], axis=1)"
   ]
  },
  {
   "cell_type": "code",
   "execution_count": null,
   "id": "22d3af23",
   "metadata": {
    "execution": {
     "iopub.execute_input": "2023-01-13T11:07:50.726083Z",
     "iopub.status.busy": "2023-01-13T11:07:50.725729Z",
     "iopub.status.idle": "2023-01-13T11:07:52.732593Z",
     "shell.execute_reply": "2023-01-13T11:07:52.731209Z"
    },
    "papermill": {
     "duration": 2.039362,
     "end_time": "2023-01-13T11:07:52.735004",
     "exception": false,
     "start_time": "2023-01-13T11:07:50.695642",
     "status": "completed"
    },
    "tags": []
   },
   "outputs": [],
   "source": [
    "selected_column = np.array(['P_2','S_3','B_2','D_41','D_43','B_3','D_44','D_45','D_46','D_48','D_50','D_53','S_7','D_56','S_9','S_12','S_17','B_6','B_8','D_52','P_3','D_54','D_55','B_13','D_59','D_61','B_15','D_62','B_16','B_17','D_77','B_19','B_20','D_69','B_22','D_70','D_72','D_74','R_7','B_25','B_26','D_78','D_79','D_80','B_27','D_81','R_12','D_82','D_105','S_27','D_83','R_14','D_84','D_86','R_20','B_33','D_89','D_91','S_22','S_23','S_24','S_25','S_26','D_102','D_103','D_104','D_107','B_37','R_27','D_109','D_112','B_40','D_113','D_115','D_118','D_119','D_121','D_122','D_123','D_124','D_125','D_128','D_129','B_41','D_130','D_131','D_133','D_139','D_140','D_141','D_143','D_144','D_145'])\n",
    "\n",
    "for column in selected_column:\n",
    "    test_dataset[column] = test_dataset[column].fillna(test_dataset[column].median())"
   ]
  },
  {
   "cell_type": "code",
   "execution_count": null,
   "id": "f9c50ee6",
   "metadata": {
    "execution": {
     "iopub.execute_input": "2023-01-13T11:07:52.796733Z",
     "iopub.status.busy": "2023-01-13T11:07:52.795650Z",
     "iopub.status.idle": "2023-01-13T11:07:52.871065Z",
     "shell.execute_reply": "2023-01-13T11:07:52.869649Z"
    },
    "papermill": {
     "duration": 0.107752,
     "end_time": "2023-01-13T11:07:52.873721",
     "exception": false,
     "start_time": "2023-01-13T11:07:52.765969",
     "status": "completed"
    },
    "tags": []
   },
   "outputs": [],
   "source": [
    "selected_column2 = np.array(['D_68','B_30','B_38','D_114','D_116','D_117','D_120','D_126'])\n",
    "\n",
    "for column2 in selected_column2:\n",
    "    test_dataset[column2] =  test_dataset[column2].fillna(test_dataset[column2].mode()[0])"
   ]
  },
  {
   "cell_type": "code",
   "execution_count": null,
   "id": "6a9e08a7",
   "metadata": {
    "execution": {
     "iopub.execute_input": "2023-01-13T11:07:52.933412Z",
     "iopub.status.busy": "2023-01-13T11:07:52.933001Z",
     "iopub.status.idle": "2023-01-13T11:07:53.318085Z",
     "shell.execute_reply": "2023-01-13T11:07:53.316760Z"
    },
    "papermill": {
     "duration": 0.417723,
     "end_time": "2023-01-13T11:07:53.320063",
     "exception": false,
     "start_time": "2023-01-13T11:07:52.902340",
     "status": "completed"
    },
    "tags": []
   },
   "outputs": [],
   "source": [
    "print(test_dataset.isnull().sum().to_string())"
   ]
  },
  {
   "cell_type": "code",
   "execution_count": null,
   "id": "405667dc",
   "metadata": {
    "execution": {
     "iopub.execute_input": "2023-01-13T11:07:53.382254Z",
     "iopub.status.busy": "2023-01-13T11:07:53.381871Z",
     "iopub.status.idle": "2023-01-13T11:07:53.389457Z",
     "shell.execute_reply": "2023-01-13T11:07:53.387905Z"
    },
    "papermill": {
     "duration": 0.040665,
     "end_time": "2023-01-13T11:07:53.391566",
     "exception": false,
     "start_time": "2023-01-13T11:07:53.350901",
     "status": "completed"
    },
    "tags": []
   },
   "outputs": [],
   "source": [
    "test_dataset.shape"
   ]
  },
  {
   "cell_type": "code",
   "execution_count": null,
   "id": "0a83e9cb",
   "metadata": {
    "execution": {
     "iopub.execute_input": "2023-01-13T11:07:53.451823Z",
     "iopub.status.busy": "2023-01-13T11:07:53.451400Z",
     "iopub.status.idle": "2023-01-13T11:07:53.476740Z",
     "shell.execute_reply": "2023-01-13T11:07:53.475276Z"
    },
    "papermill": {
     "duration": 0.058183,
     "end_time": "2023-01-13T11:07:53.478799",
     "exception": false,
     "start_time": "2023-01-13T11:07:53.420616",
     "status": "completed"
    },
    "tags": []
   },
   "outputs": [],
   "source": [
    "test_dataset.head()"
   ]
  },
  {
   "cell_type": "markdown",
   "id": "dc7441ca",
   "metadata": {
    "papermill": {
     "duration": 0.030052,
     "end_time": "2023-01-13T11:07:53.538980",
     "exception": false,
     "start_time": "2023-01-13T11:07:53.508928",
     "status": "completed"
    },
    "tags": []
   },
   "source": [
    "# Convert categorical variable to numericals"
   ]
  },
  {
   "cell_type": "code",
   "execution_count": null,
   "id": "35f8c37a",
   "metadata": {
    "execution": {
     "iopub.execute_input": "2023-01-13T11:07:53.600888Z",
     "iopub.status.busy": "2023-01-13T11:07:53.599618Z",
     "iopub.status.idle": "2023-01-13T11:07:55.170196Z",
     "shell.execute_reply": "2023-01-13T11:07:55.168859Z"
    },
    "papermill": {
     "duration": 1.604709,
     "end_time": "2023-01-13T11:07:55.173452",
     "exception": false,
     "start_time": "2023-01-13T11:07:53.568743",
     "status": "completed"
    },
    "tags": []
   },
   "outputs": [],
   "source": [
    "from sklearn.preprocessing import OrdinalEncoder\n",
    "\n",
    "enc = OrdinalEncoder()\n",
    "categorical_cols.remove('D_66')\n",
    "\n",
    "train_dataset[categorical_cols] = enc.fit_transform(train_dataset[categorical_cols])\n",
    "test_dataset[categorical_cols] = enc.transform(test_dataset[categorical_cols])"
   ]
  },
  {
   "cell_type": "markdown",
   "id": "2b75295a",
   "metadata": {
    "papermill": {
     "duration": 0.031175,
     "end_time": "2023-01-13T11:07:55.235828",
     "exception": false,
     "start_time": "2023-01-13T11:07:55.204653",
     "status": "completed"
    },
    "tags": []
   },
   "source": [
    "# Remove highly correlated features"
   ]
  },
  {
   "cell_type": "code",
   "execution_count": null,
   "id": "0d7c08b8",
   "metadata": {
    "execution": {
     "iopub.execute_input": "2023-01-13T11:07:55.301239Z",
     "iopub.status.busy": "2023-01-13T11:07:55.300874Z",
     "iopub.status.idle": "2023-01-13T11:08:17.594218Z",
     "shell.execute_reply": "2023-01-13T11:08:17.592794Z"
    },
    "papermill": {
     "duration": 22.329767,
     "end_time": "2023-01-13T11:08:17.596888",
     "exception": false,
     "start_time": "2023-01-13T11:07:55.267121",
     "status": "completed"
    },
    "tags": []
   },
   "outputs": [],
   "source": [
    "train_dataset_without_target = train_dataset.drop([\"target\"],axis=1)\n",
    "\n",
    "cor_matrix = train_dataset_without_target.corr()\n",
    "col_core = set()\n",
    "\n",
    "for i in range(len(cor_matrix.columns)):\n",
    "    for j in range(i):\n",
    "        if(cor_matrix.iloc[i, j] > 0.9):\n",
    "            col_name = cor_matrix.columns[i]\n",
    "            col_core.add(col_name)\n",
    "col_core"
   ]
  },
  {
   "cell_type": "code",
   "execution_count": null,
   "id": "cc2bd513",
   "metadata": {
    "execution": {
     "iopub.execute_input": "2023-01-13T11:08:17.658672Z",
     "iopub.status.busy": "2023-01-13T11:08:17.658309Z",
     "iopub.status.idle": "2023-01-13T11:08:17.966134Z",
     "shell.execute_reply": "2023-01-13T11:08:17.964759Z"
    },
    "papermill": {
     "duration": 0.341532,
     "end_time": "2023-01-13T11:08:17.968806",
     "exception": false,
     "start_time": "2023-01-13T11:08:17.627274",
     "status": "completed"
    },
    "tags": []
   },
   "outputs": [],
   "source": [
    "train_dataset = train_dataset.drop(col_core, axis=1)\n",
    "test_dataset = test_dataset.drop(col_core, axis=1)"
   ]
  },
  {
   "cell_type": "code",
   "execution_count": null,
   "id": "0044f62d",
   "metadata": {
    "execution": {
     "iopub.execute_input": "2023-01-13T11:08:18.032070Z",
     "iopub.status.busy": "2023-01-13T11:08:18.031650Z",
     "iopub.status.idle": "2023-01-13T11:08:18.038636Z",
     "shell.execute_reply": "2023-01-13T11:08:18.037726Z"
    },
    "papermill": {
     "duration": 0.041599,
     "end_time": "2023-01-13T11:08:18.040505",
     "exception": false,
     "start_time": "2023-01-13T11:08:17.998906",
     "status": "completed"
    },
    "tags": []
   },
   "outputs": [],
   "source": [
    "train_dataset.shape"
   ]
  },
  {
   "cell_type": "markdown",
   "id": "28523dc1",
   "metadata": {
    "papermill": {
     "duration": 0.029807,
     "end_time": "2023-01-13T11:08:18.100142",
     "exception": false,
     "start_time": "2023-01-13T11:08:18.070335",
     "status": "completed"
    },
    "tags": []
   },
   "source": [
    "# Train Model"
   ]
  },
  {
   "cell_type": "code",
   "execution_count": null,
   "id": "fa53aa6f",
   "metadata": {
    "execution": {
     "iopub.execute_input": "2023-01-13T11:08:18.164216Z",
     "iopub.status.busy": "2023-01-13T11:08:18.163145Z",
     "iopub.status.idle": "2023-01-13T11:08:18.265388Z",
     "shell.execute_reply": "2023-01-13T11:08:18.263935Z"
    },
    "papermill": {
     "duration": 0.136939,
     "end_time": "2023-01-13T11:08:18.267446",
     "exception": false,
     "start_time": "2023-01-13T11:08:18.130507",
     "status": "completed"
    },
    "tags": []
   },
   "outputs": [],
   "source": [
    "num_columns = [col for col in train_dataset.columns if col not in [\"target\"]]\n",
    "\n",
    "X = train_dataset[num_columns]\n",
    "y = train_dataset['target']\n",
    "\n",
    "print(f\"X shape is = {X.shape}\" )\n",
    "print(f\"Y shape is = {y.shape}\" )"
   ]
  },
  {
   "cell_type": "code",
   "execution_count": null,
   "id": "1b9614b0",
   "metadata": {
    "execution": {
     "iopub.execute_input": "2023-01-13T11:08:18.329116Z",
     "iopub.status.busy": "2023-01-13T11:08:18.328462Z",
     "iopub.status.idle": "2023-01-13T11:08:19.299669Z",
     "shell.execute_reply": "2023-01-13T11:08:19.297722Z"
    },
    "papermill": {
     "duration": 1.005174,
     "end_time": "2023-01-13T11:08:19.302377",
     "exception": false,
     "start_time": "2023-01-13T11:08:18.297203",
     "status": "completed"
    },
    "tags": []
   },
   "outputs": [],
   "source": [
    "from sklearn.model_selection import train_test_split\n",
    "from sklearn.metrics import accuracy_score\n",
    "\n",
    "x_train,x_test,y_train,y_test = train_test_split(X, y, test_size=0.2, random_state=42, stratify=y)\n",
    "\n",
    "print(f\"X_train shape is = {x_train.shape}\" )\n",
    "print(f\"Y_train shape is = {y_train.shape}\" )\n",
    "print(f\"X_test shape is = {x_test.shape}\" )\n",
    "print(f\"Y_test shape is = {y_test.shape}\" )"
   ]
  },
  {
   "cell_type": "code",
   "execution_count": null,
   "id": "3380eccd",
   "metadata": {
    "execution": {
     "iopub.execute_input": "2023-01-13T11:08:19.365339Z",
     "iopub.status.busy": "2023-01-13T11:08:19.364929Z",
     "iopub.status.idle": "2023-01-13T11:09:49.578289Z",
     "shell.execute_reply": "2023-01-13T11:09:49.576934Z"
    },
    "papermill": {
     "duration": 90.247817,
     "end_time": "2023-01-13T11:09:49.580975",
     "exception": false,
     "start_time": "2023-01-13T11:08:19.333158",
     "status": "completed"
    },
    "tags": []
   },
   "outputs": [],
   "source": [
    "import lightgbm as lgb\n",
    "\n",
    "d_train = lgb.Dataset(x_train, label=y_train, categorical_feature = categorical_cols)\n",
    "\n",
    "params = {'objective': 'binary','n_estimators': 1200,'metric': 'binary_logloss','boosting': 'gbdt','num_leaves': 90,'reg_lambda' : 50,'colsample_bytree': 0.19,'learning_rate': 0.025,'min_child_samples': 2400,'max_bins': 511,'seed': 42,'verbose': -1}\n",
    "\n",
    "# trained model with 100 iterations\n",
    "model = lgb.train(params, d_train, 100)"
   ]
  },
  {
   "cell_type": "markdown",
   "id": "cbcdf90b",
   "metadata": {
    "papermill": {
     "duration": 0.030678,
     "end_time": "2023-01-13T11:09:49.643074",
     "exception": false,
     "start_time": "2023-01-13T11:09:49.612396",
     "status": "completed"
    },
    "tags": []
   },
   "source": [
    "# Predictions"
   ]
  },
  {
   "cell_type": "code",
   "execution_count": null,
   "id": "6c9842c6",
   "metadata": {
    "execution": {
     "iopub.execute_input": "2023-01-13T11:09:49.708479Z",
     "iopub.status.busy": "2023-01-13T11:09:49.707905Z",
     "iopub.status.idle": "2023-01-13T11:10:40.585739Z",
     "shell.execute_reply": "2023-01-13T11:10:40.584931Z"
    },
    "papermill": {
     "duration": 50.939456,
     "end_time": "2023-01-13T11:10:40.614652",
     "exception": false,
     "start_time": "2023-01-13T11:09:49.675196",
     "status": "completed"
    },
    "tags": []
   },
   "outputs": [],
   "source": [
    "predictions = model.predict(test_dataset[num_columns])\n",
    "predictions"
   ]
  },
  {
   "cell_type": "markdown",
   "id": "8c573e29",
   "metadata": {
    "papermill": {
     "duration": 0.030436,
     "end_time": "2023-01-13T11:10:40.676598",
     "exception": false,
     "start_time": "2023-01-13T11:10:40.646162",
     "status": "completed"
    },
    "tags": []
   },
   "source": [
    "# Output"
   ]
  },
  {
   "cell_type": "code",
   "execution_count": null,
   "id": "38bb5afb",
   "metadata": {
    "execution": {
     "iopub.execute_input": "2023-01-13T11:10:40.740044Z",
     "iopub.status.busy": "2023-01-13T11:10:40.739309Z",
     "iopub.status.idle": "2023-01-13T11:10:45.072747Z",
     "shell.execute_reply": "2023-01-13T11:10:45.071433Z"
    },
    "papermill": {
     "duration": 4.367821,
     "end_time": "2023-01-13T11:10:45.075333",
     "exception": false,
     "start_time": "2023-01-13T11:10:40.707512",
     "status": "completed"
    },
    "tags": []
   },
   "outputs": [],
   "source": [
    "sample_dataset = pd.read_csv('/kaggle/input/amex-default-prediction/sample_submission.csv')\n",
    "output = pd.DataFrame({'customer_ID': sample_dataset.customer_ID, 'prediction': predictions})\n",
    "output.to_csv('submission.csv', index=False)"
   ]
  }
 ],
 "metadata": {
  "kernelspec": {
   "display_name": "Python 3",
   "language": "python",
   "name": "python3"
  },
  "language_info": {
   "codemirror_mode": {
    "name": "ipython",
    "version": 3
   },
   "file_extension": ".py",
   "mimetype": "text/x-python",
   "name": "python",
   "nbconvert_exporter": "python",
   "pygments_lexer": "ipython3",
   "version": "3.10.6 (main, Nov  2 2022, 18:53:38) [GCC 11.3.0]"
  },
  "papermill": {
   "default_parameters": {},
   "duration": 345.228504,
   "end_time": "2023-01-13T11:10:46.232305",
   "environment_variables": {},
   "exception": null,
   "input_path": "__notebook__.ipynb",
   "output_path": "__notebook__.ipynb",
   "parameters": {},
   "start_time": "2023-01-13T11:05:01.003801",
   "version": "2.3.4"
  },
  "vscode": {
   "interpreter": {
    "hash": "916dbcbb3f70747c44a77c7bcd40155683ae19c65e1c03b4aa3499c5328201f1"
   }
  }
 },
 "nbformat": 4,
 "nbformat_minor": 5
}
